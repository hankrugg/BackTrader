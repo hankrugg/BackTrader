{
 "cells": [
  {
   "cell_type": "markdown",
   "id": "a15e9559-fec3-4d90-9e90-1d3bcad5a1fe",
   "metadata": {},
   "source": [
    "# Example 1"
   ]
  },
  {
   "cell_type": "markdown",
   "id": "c54b5d3c-de73-4757-b5d3-d26f34b3d075",
   "metadata": {},
   "source": [
    "Below is a short example of how to use the framework using data fetched from `yfinance`.\n"
   ]
  },
  {
   "cell_type": "markdown",
   "id": "b2e506f0-38c5-4d66-9cd2-9b9b77b35576",
   "metadata": {
    "tags": []
   },
   "source": [
    "## Imports"
   ]
  },
  {
   "cell_type": "code",
   "execution_count": 4,
   "id": "initial_id",
   "metadata": {
    "is_executing": true,
    "tags": []
   },
   "outputs": [],
   "source": [
    "import sys\n",
    "import datetime\n",
    "import os\n",
    "\n",
    "import yfinance as yf\n",
    "import pandas as pd\n",
    "\n",
    "from dotenv import load_dotenv\n",
    "\n",
    "load_dotenv()\n",
    "sys.path.append(os.getenv('local_path'))\n",
    "\n",
    "\n",
    "from backtrader.backtesting.data.data_loader import MarketData"
   ]
  },
  {
   "cell_type": "markdown",
   "id": "c315bb2d-0f67-4d11-971f-f3bc1064586c",
   "metadata": {},
   "source": [
    "## Fetching data using yfinance"
   ]
  },
  {
   "cell_type": "code",
   "execution_count": 18,
   "id": "f0cadee6f39286f0",
   "metadata": {
    "collapsed": false,
    "jupyter": {
     "outputs_hidden": false
    },
    "tags": []
   },
   "outputs": [],
   "source": [
    "ticker_symbol = \"AAPL\"\n",
    "\n",
    "ticker = yf.Ticker(ticker_symbol)\n",
    "\n",
    "historical_data = ticker.history(period=\"1y\")  # data for the last year\n",
    "\n",
    "data = historical_data.reset_index()\n",
    "data.rename(columns = {'Date':'timestamp', 'Open': 'open', 'High': 'high', 'Low': 'low', 'Close': 'close', 'Volume': 'volume'}, inplace = True)\n",
    "data.drop(['Dividends', 'Stock Splits'], axis = 1, inplace = True)"
   ]
  },
  {
   "cell_type": "markdown",
   "id": "5cd3b1f6-f7c9-4bc5-956e-2729428c6a4c",
   "metadata": {
    "tags": []
   },
   "source": [
    "## Loading using dataloader"
   ]
  },
  {
   "cell_type": "code",
   "execution_count": 19,
   "id": "66194e06-1cc8-4d75-87ed-611ea8eaef37",
   "metadata": {
    "tags": []
   },
   "outputs": [],
   "source": [
    "market_data = MarketData(data)"
   ]
  },
  {
   "cell_type": "code",
   "execution_count": 47,
   "id": "c4420452-c11e-43c7-a73c-58def6b73830",
   "metadata": {
    "tags": []
   },
   "outputs": [
    {
     "data": {
      "text/plain": [
       "MarketDataPoint(timestamp=Timestamp('2024-04-10 00:00:00-0400', tz='America/New_York'), open=168.0066961691415, high=168.29532657810816, low=166.3246362072623, close=166.99148559570312, volume=49709300)"
      ]
     },
     "execution_count": 47,
     "metadata": {},
     "output_type": "execute_result"
    }
   ],
   "source": [
    "next(market_data)"
   ]
  },
  {
   "cell_type": "code",
   "execution_count": 16,
   "id": "f2f0a456-9fd9-4c81-8829-204128efa00a",
   "metadata": {
    "tags": []
   },
   "outputs": [
    {
     "ename": "TypeError",
     "evalue": "'MarketData' object is not subscriptable",
     "output_type": "error",
     "traceback": [
      "\u001b[0;31m---------------------------------------------------------------------------\u001b[0m",
      "\u001b[0;31mTypeError\u001b[0m                                 Traceback (most recent call last)",
      "Cell \u001b[0;32mIn[16], line 1\u001b[0m\n\u001b[0;32m----> 1\u001b[0m market_data[\u001b[38;5;241m0\u001b[39m]\n",
      "\u001b[0;31mTypeError\u001b[0m: 'MarketData' object is not subscriptable"
     ]
    }
   ],
   "source": [
    "market_data[0]"
   ]
  }
 ],
 "metadata": {
  "kernelspec": {
   "display_name": "Python 3 (ipykernel)",
   "language": "python",
   "name": "python3"
  },
  "language_info": {
   "codemirror_mode": {
    "name": "ipython",
    "version": 3
   },
   "file_extension": ".py",
   "mimetype": "text/x-python",
   "name": "python",
   "nbconvert_exporter": "python",
   "pygments_lexer": "ipython3",
   "version": "3.11.5"
  }
 },
 "nbformat": 4,
 "nbformat_minor": 5
}
